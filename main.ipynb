{
 "cells": [
  {
   "cell_type": "code",
   "execution_count": null,
   "metadata": {},
   "outputs": [],
   "source": [
    "import tensorflow as tf\n",
    "import numpy as np,sklearn,os,cv2,pandas\n",
    "import tensorflow_hub as hub\n",
    "import tensorflow_text as text\n",
    "from tensorflow.keras import Model,layers\n"
   ]
  },
  {
   "cell_type": "code",
   "execution_count": null,
   "metadata": {},
   "outputs": [],
   "source": [
    "df=pandas.read_csv(\"./sentiment-emotion-labelled_Dell_tweets.csv\")\n",
    "df.head()"
   ]
  },
  {
   "cell_type": "code",
   "execution_count": null,
   "metadata": {},
   "outputs": [],
   "source": [
    "X,Y=df.Text,df.sentiment\n",
    "Y.unique()"
   ]
  },
  {
   "cell_type": "code",
   "execution_count": null,
   "metadata": {},
   "outputs": [],
   "source": [
    "Classes=['neutral', 'positive', 'negative']"
   ]
  },
  {
   "cell_type": "code",
   "execution_count": null,
   "metadata": {},
   "outputs": [],
   "source": [
    "X.shape,Y.shape"
   ]
  },
  {
   "cell_type": "code",
   "execution_count": null,
   "metadata": {},
   "outputs": [],
   "source": [
    "X=np.array(X)\n",
    "Y=np.array(Y)"
   ]
  },
  {
   "cell_type": "code",
   "execution_count": null,
   "metadata": {},
   "outputs": [],
   "source": [
    "new_df=pandas.DataFrame(zip(X,Y),columns=[\"X\",\"Y\"])\n",
    "new_df.head()"
   ]
  },
  {
   "cell_type": "code",
   "execution_count": null,
   "metadata": {},
   "outputs": [],
   "source": [
    "bert_preprocess = hub.KerasLayer(\n",
    "    \"https://tfhub.dev/tensorflow/bert_en_uncased_preprocess/3\")\n",
    "bert_encoder = hub.KerasLayer(\n",
    "    \"https://tfhub.dev/tensorflow/bert_en_uncased_L-12_H-768_A-12/4\")"
   ]
  },
  {
   "cell_type": "code",
   "execution_count": null,
   "metadata": {},
   "outputs": [],
   "source": [
    "New_Y=[]\n",
    "for i,j in enumerate(Y):\n",
    "    label=-2\n",
    "    for k,l in enumerate(Classes):\n",
    "        if l==j:\n",
    "            label=k\n",
    "            New_Y.append(label)\n",
    "New_Y=np.array(New_Y)\n",
    "New_Y.shape,X.shape"
   ]
  },
  {
   "cell_type": "code",
   "execution_count": null,
   "metadata": {},
   "outputs": [],
   "source": [
    "from sklearn.model_selection import train_test_split as tts\n",
    "X_train, X_test, y_train, y_test = tts(X,New_Y,test_size=0.2, random_state=42,shuffle=True)"
   ]
  },
  {
   "cell_type": "code",
   "execution_count": null,
   "metadata": {},
   "outputs": [],
   "source": [
    "X_train.shape,X_test.shape,y_train.shape,y_test.shape"
   ]
  },
  {
   "cell_type": "code",
   "execution_count": null,
   "metadata": {},
   "outputs": [],
   "source": [
    "X_train[0],y_train[0]"
   ]
  },
  {
   "cell_type": "code",
   "execution_count": null,
   "metadata": {},
   "outputs": [],
   "source": [
    "textinput=layers.Input(shape=(),dtype=tf.string,name=\"text\")\n",
    "pre=bert_preprocess(textinput)\n",
    "end=bert_encoder(pre)\n",
    "# NN Layer\n",
    "po=end[\"sequence_output\"]  #[\"pooled_output\"]\n",
    "l=layers.Bidirectional(layers.GRU(128, return_sequences=True))(po)\n",
    "l=layers.Bidirectional(layers.GRU(64, return_sequences=True))(l)\n",
    "l=layers.Conv1D(64, 1, activation=\"relu\", padding='same')(l)\n",
    "l=layers.Flatten()(l)\n",
    "l=layers.Dropout(0.2)(l)\n",
    "l=layers.Dense(128,activation=\"relu\",name=\"input\")(l)\n",
    "l=layers.Dense(64,activation=\"relu\",name=\"in\")(l)\n",
    "l=layers.Dense(16,activation=\"relu\",name=\"in1\")(l)\n",
    "l=layers.Dropout(0.2)(l)\n",
    "l=layers.Dense(3,activation=\"softmax\",name=\"output\")(l)\n",
    "Model=tf.keras.Model(inputs=textinput,outputs=[l])\n"
   ]
  },
  {
   "cell_type": "code",
   "execution_count": null,
   "metadata": {},
   "outputs": [],
   "source": [
    "Model.compile(\"adam\",loss=\"sparse_categorical_crossentropy\",metrics=[\"accuracy\"])\n",
    "Model.summary()"
   ]
  },
  {
   "cell_type": "code",
   "execution_count": null,
   "metadata": {},
   "outputs": [],
   "source": [
    "hist=Model.fit(X_train,y_train,epochs=30,batch_size=80)"
   ]
  },
  {
   "cell_type": "code",
   "execution_count": null,
   "metadata": {},
   "outputs": [],
   "source": [
    "Model.evaluate(X_test,y_test)"
   ]
  },
  {
   "cell_type": "code",
   "execution_count": null,
   "metadata": {},
   "outputs": [],
   "source": [
    "Model.save(\"./Model_3_Bert_Uncase.h5\")"
   ]
  },
  {
   "cell_type": "code",
   "execution_count": null,
   "metadata": {},
   "outputs": [],
   "source": [
    "A=Model.predict([\"you awake from a deep trance, step away from the phone to see your friends & family\"])\n",
    "a=np.argmax(A)\n",
    "Classes[a],int(A[0][a]*100)"
   ]
  }
 ],
 "metadata": {
  "kernelspec": {
   "display_name": "Python 3",
   "language": "python",
   "name": "python3"
  },
  "language_info": {
   "codemirror_mode": {
    "name": "ipython",
    "version": 3
   },
   "file_extension": ".py",
   "mimetype": "text/x-python",
   "name": "python",
   "nbconvert_exporter": "python",
   "pygments_lexer": "ipython3",
   "version": "3.7.2"
  },
  "orig_nbformat": 4
 },
 "nbformat": 4,
 "nbformat_minor": 2
}
